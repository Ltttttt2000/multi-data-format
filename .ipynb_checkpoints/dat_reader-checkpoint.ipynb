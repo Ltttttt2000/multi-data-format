{
 "cells": [
  {
   "cell_type": "code",
   "execution_count": 2,
   "id": "6ed434c3-445a-4374-b72c-5a026b74818b",
   "metadata": {},
   "outputs": [],
   "source": [
    "path = 'D:\\\\NC-2023-HE-04\\\\柔性电极动物实验数据\\\\大鼠64通道\\\\柔性电极-64通道_神经信号_第50天F.dat'\n",
    "file = open(path, 'rb')\n"
   ]
  },
  {
   "cell_type": "code",
   "execution_count": 3,
   "id": "9b72613c-a732-4153-9cfa-f18b3e0809b8",
   "metadata": {},
   "outputs": [
    {
     "ename": "error",
     "evalue": "bad char in struct format",
     "output_type": "error",
     "traceback": [
      "\u001b[1;31m---------------------------------------------------------------------------\u001b[0m",
      "\u001b[1;31merror\u001b[0m                                     Traceback (most recent call last)",
      "Cell \u001b[1;32mIn[3], line 4\u001b[0m\n\u001b[0;32m      1\u001b[0m \u001b[38;5;28;01mimport\u001b[39;00m \u001b[38;5;21;01mstruct\u001b[39;00m\n\u001b[0;32m      3\u001b[0m data \u001b[38;5;241m=\u001b[39m file\u001b[38;5;241m.\u001b[39mread()\n\u001b[1;32m----> 4\u001b[0m result \u001b[38;5;241m=\u001b[39m \u001b[43mstruct\u001b[49m\u001b[38;5;241;43m.\u001b[39;49m\u001b[43munpack\u001b[49m\u001b[43m(\u001b[49m\u001b[38;5;124;43m'\u001b[39;49m\u001b[38;5;124;43mformat string\u001b[39;49m\u001b[38;5;124;43m'\u001b[39;49m\u001b[43m,\u001b[49m\u001b[43m \u001b[49m\u001b[43mdata\u001b[49m\u001b[43m)\u001b[49m\n",
      "\u001b[1;31merror\u001b[0m: bad char in struct format"
     ]
    }
   ],
   "source": [
    "import struct\n",
    "\n",
    "data = file.read()\n",
    "result = struct.unpack('format string', data)"
   ]
  },
  {
   "cell_type": "code",
   "execution_count": 4,
   "id": "77fc395c-3cb3-415e-a69d-e46d004f13e0",
   "metadata": {},
   "outputs": [
    {
     "name": "stdout",
     "output_type": "stream",
     "text": [
      "<class 'numpy.ndarray'> (141782496,)\n",
      "[ 7.4384440e-39  4.0224401e-38  6.7045517e-39  1.0947139e-37\n",
      "  3.9122521e-38  7.8245289e-38 -2.2730484e+38  1.9288019e-39\n",
      "  6.8876356e-39 -2.6851113e+38  7.3538882e-40            nan\n",
      "  6.1529474e-39 -1.1564032e+38  1.6714049e-38  7.8062666e-39\n",
      "  3.9486867e-39  4.4816131e-38  3.7659126e-39  1.1314510e-37\n",
      "  4.0224631e-38  7.8979984e-38 -2.2730533e+38  3.6737786e-39\n",
      "  4.9590593e-39 -2.7781443e+38  8.6331938e-39  3.4894322e-39\n",
      "  1.9285216e-39 -1.4222514e+38  1.0744857e-38  9.7347700e-39\n",
      "  3.9485816e-39  4.6652908e-38            nan  9.0000625e-38\n",
      "  3.3612565e-38  7.8245322e-38 -2.9110892e+38  4.8676919e-39\n",
      "  3.7652399e-39 -2.6850967e+38  9.7352184e-39  6.3363494e-39\n",
      "  1.4693693e-39 -1.1298221e+38  6.7959080e-39  1.3683609e-38\n",
      "  9.7343118e-39  3.3428687e-38            nan  1.0947140e-37\n",
      "  3.4163581e-38  1.0579754e-37 -3.1503434e+38  2.3880886e-39\n",
      "  6.7958870e-39 -3.1104629e+38  1.1571885e-38  3.2139747e-39\n",
      "  3.6734423e-39 -1.0833019e+38  7.3468677e-39  1.2581582e-38\n",
      "  1.0836342e-38  2.6449102e-38  6.4179470e-43  1.0579826e-37\n",
      "  3.1224904e-38  1.0873567e-37 -2.8313289e+38            nan\n",
      "  5.0509285e-39 -3.0440055e+38  9.7351567e-39            nan\n",
      "            nan -1.1032465e+38  3.1224587e-39  1.3683546e-38\n",
      "  1.0836296e-38  2.3693976e-38  8.4494850e-39  9.0000429e-38\n",
      "  2.6449396e-38  1.0726636e-37 -2.4192771e+38            nan\n",
      "  4.0406862e-39 -3.0439990e+38  3.9495976e-39  1.8332627e-40\n",
      "  9.1827929e-40 -1.3425151e+38  6.0611946e-39  1.3683514e-38\n",
      "  9.8260590e-39  3.1224486e-38  1.0745316e-38  1.1314438e-37]\n"
     ]
    }
   ],
   "source": [
    "import numpy as np\n",
    "\n",
    "data = np.fromfile(path, dtype=np.float32)\n",
    "print(type(data), data.shape)\n",
    "print(data[:100])"
   ]
  },
  {
   "cell_type": "code",
   "execution_count": 5,
   "id": "8567d72e-6689-40b2-a7df-8e663f1e79e7",
   "metadata": {},
   "outputs": [
    {
     "name": "stdout",
     "output_type": "stream",
     "text": [
      "567129984 (567129984,)\n",
      "[ 91 255  80   0 162   0  91   1 144   1  73   0  54   1  21   2 214   0\n",
      "  85   1   2   1 213   1  82   1  43 255 183   0  21   0 237 255  74   0\n",
      "  93   1  74 255 247   1   8   0  37 255 188 255 234 255  66   0   8 255\n",
      " 173 254 248 255 181   0 178   0  85   0  85 255  42   0 146   0 116   1\n",
      " 213   1  41   0  80   1  26   2 244   0  91   1   4   1 215   1 106   1\n",
      "  43 255   0   1  40   0 215 255  53   0]\n"
     ]
    }
   ],
   "source": [
    "data = np.fromfile(path, dtype=np.uint8)\n",
    "print(data.size, data.shape)\n",
    "print(data[:100])"
   ]
  },
  {
   "cell_type": "markdown",
   "id": "53179474-6653-4dfe-a9c1-d8aa144a7c53",
   "metadata": {},
   "source": [
    "为什么编码不同读出来的size不同？\n",
    "float32：是一种单精度浮点数，占32位（也就是4个字节），可以提供约7位有效数字的精度。这种数据类型通常用于需要高精度计算的应用，例如科学计算、金融建模等。\n",
    "int8：是一种8位有符号整数类型，可以表示范围在-128到127之间的整数。这种类型通常用于需要使用较小整数范围的应用，如物联网设备、硬件控制等。\n",
    "uint8：是一种8位无符号整数类型，可以表示范围在0到255之间的整数。这种类型通常用于需要使用较小整数范围且不需要负数的应用，如图像处理、网络协议等。\n",
    "int32：是一种32位有符号整数类型，可以表示范围在-2147483648到2147483647之间的整数。这种类型通常用于需要较大整数范围的应用，如科学计算、大数据处理等。\n",
    "uint32：是一种32位无符号整数类型，可以表示范围在0到4294967295之间的整数。这种类型通常用于需要较大整数范围且不需要负数的应用，如网络协议、数据库等。"
   ]
  },
  {
   "cell_type": "code",
   "execution_count": null,
   "id": "048a9af2-ecc5-45ff-b7e2-958dc58fe0c9",
   "metadata": {},
   "outputs": [],
   "source": []
  }
 ],
 "metadata": {
  "kernelspec": {
   "display_name": "Python 3 (ipykernel)",
   "language": "python",
   "name": "python3"
  },
  "language_info": {
   "codemirror_mode": {
    "name": "ipython",
    "version": 3
   },
   "file_extension": ".py",
   "mimetype": "text/x-python",
   "name": "python",
   "nbconvert_exporter": "python",
   "pygments_lexer": "ipython3",
   "version": "3.12.4"
  }
 },
 "nbformat": 4,
 "nbformat_minor": 5
}
