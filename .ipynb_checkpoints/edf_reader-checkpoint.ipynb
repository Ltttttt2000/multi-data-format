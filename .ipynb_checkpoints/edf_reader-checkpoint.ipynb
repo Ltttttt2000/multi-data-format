{
 "cells": [
  {
   "cell_type": "code",
   "execution_count": null,
   "id": "954d78b1-8db9-404d-96c3-845eddd6d0d2",
   "metadata": {},
   "outputs": [],
   "source": [
    "import json\n",
    "\n",
    "\n",
    "\n",
    "tmp = raw_data.to_data_frame()\n",
    "print(tmp)\n",
    "import matplotlib.pyplot as plt\n",
    "for i in range(1,32):\n",
    "    plt.subplot(4,8,i)\n",
    "    plt.plot(tmp.values[:,i])\n",
    "    # plt.plot(tmp.values[:,32])\n",
    "plt.show()\n",
    "# print()\n",
    "# print(raw_data.ch_names)\n",
    "# print(raw_data.n_times)\n",
    "\n",
    "# 查看原始edf文件中保存的event id以及events\n",
    "# events_from_annot, event_dict = mne.events_from_annotations(raw_data)\n",
    "# print(event_dict)\n",
    "# print(events_from_annot)\n"
   ]
  },
  {
   "cell_type": "code",
   "execution_count": null,
   "id": "ea0bd9ec-ffc4-4280-9c4b-ad0ab12d48be",
   "metadata": {},
   "outputs": [],
   "source": [
    "import mne"
   ]
  },
  {
   "cell_type": "markdown",
   "id": "2a7140fc-e587-43d5-b619-6acb10d75508",
   "metadata": {},
   "source": [
    "存放数据的具体位置，Windows的路径需要增加反斜杠\\"
   ]
  },
  {
   "cell_type": "code",
   "execution_count": null,
   "id": "24e4f945-9606-428e-b74a-08bb55cf44c5",
   "metadata": {},
   "outputs": [],
   "source": [
    "# data_path = 'D:\\\\WangYinyanRaw\\\\术中唤醒\\\\ECoG_20231030_A_P_1\\\\ECoG_20231030_A_P_1_Movments_Session_1_datRaw.edf' \n",
    "# data_path = 'D:\\\\WangYinyanRaw\\\\短期植入\\\\20231217 Shandong\\\\Lishilong_20231215_motor1\\\\Lishilong_20231215_motor1.edf'\n",
    "# data_path = 'D:\\\\WangYinyanRaw\\\\短期植入\\\\20240223 Shandong2\\\\YangShengQiang_20240223_1_Left_Big\\\\YangShengQiang_20240223_1_Left_Big.edf'\n",
    "data_path = 'C:\\\\Users\\\\Lenovo\\\\Downloads\\\\ECoG_术中_语言\\\\ECoG_术中_语言\\\\sub005_xulei\\\\reading.edf'"
   ]
  },
  {
   "cell_type": "markdown",
   "id": "c8544d48-3fa4-4c3f-ba95-18bbe887d49e",
   "metadata": {},
   "source": [
    "读取raw data"
   ]
  },
  {
   "cell_type": "code",
   "execution_count": null,
   "id": "3dafa15c-12ca-44d1-9a60-b9bff814dcac",
   "metadata": {},
   "outputs": [],
   "source": [
    "raw_data = mne.io.read_raw_edf(data_path, preload=False)\n",
    "print(raw_data)  # 32 x 244500"
   ]
  }
 ],
 "metadata": {
  "kernelspec": {
   "display_name": "Python 3 (ipykernel)",
   "language": "python",
   "name": "python3"
  },
  "language_info": {
   "codemirror_mode": {
    "name": "ipython",
    "version": 3
   },
   "file_extension": ".py",
   "mimetype": "text/x-python",
   "name": "python",
   "nbconvert_exporter": "python",
   "pygments_lexer": "ipython3",
   "version": "3.12.4"
  }
 },
 "nbformat": 4,
 "nbformat_minor": 5
}
